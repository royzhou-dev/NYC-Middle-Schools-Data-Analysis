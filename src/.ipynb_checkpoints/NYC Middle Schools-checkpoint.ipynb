{
 "cells": [
  {
   "cell_type": "markdown",
   "id": "45e8592d-d5da-4cb5-be3f-e3c3bc0ba549",
   "metadata": {},
   "source": [
    "# NYC Middle School Analysis\n",
    "## 1. Introduction\n",
    "Within the New York City school system are nine highly selective public high schools established and administered by the NYC Department of Education to serve the needs of academically and artistically gifted students. These schools are, in order of establishment date:\n",
    "\n",
    "1. Stuyvesant High School\n",
    "2. Brooklyn Technical High School\n",
    "3. The Bronx High School of Science\n",
    "4. Staten Island Technical High School\n",
    "5. Fiorello H. LaGuardia High School of Music & Art and Performing Arts\n",
    "6. High School for Math, Science and Engineering at City College\n",
    "7. High School of American Studies at Lehman College\n",
    "8. Queens High School for the Sciences at York College\n",
    "9. Brooklyn Latin School\n",
    "\n",
    "Admissions to eight of the nine schools is contingent on scoring highly on the Specialized High School Admissions Test (SHSAT). LaGuardia High School, the one for which the SHSAT is not needed, requires a portfolio and audition for admission. With the recent discussions going on in the NYC about the future of the specialized high schools, and espeically about the admissions process, I wanted to take a look at the factors that lead to admissions to these prestigious schools.  \n",
    "\n",
    "## 2. The Dataset\n",
    "The dataset comes from the NYC DOE, and contains data from all 594 NYC middle schools (485 public and 109 charter)."
   ]
  },
  {
   "cell_type": "code",
   "execution_count": 1,
   "id": "f1e5dd16-ab28-4fd4-83bc-0d33bddcb21e",
   "metadata": {
    "tags": []
   },
   "outputs": [
    {
     "data": {
      "text/html": [
       "<div>\n",
       "<style scoped>\n",
       "    .dataframe tbody tr th:only-of-type {\n",
       "        vertical-align: middle;\n",
       "    }\n",
       "\n",
       "    .dataframe tbody tr th {\n",
       "        vertical-align: top;\n",
       "    }\n",
       "\n",
       "    .dataframe thead th {\n",
       "        text-align: right;\n",
       "    }\n",
       "</style>\n",
       "<table border=\"1\" class=\"dataframe\">\n",
       "  <thead>\n",
       "    <tr style=\"text-align: right;\">\n",
       "      <th></th>\n",
       "      <th>dbn</th>\n",
       "      <th>school_name</th>\n",
       "      <th>applications</th>\n",
       "      <th>acceptances</th>\n",
       "      <th>per_pupil_spending</th>\n",
       "      <th>avg_class_size</th>\n",
       "      <th>asian_percent</th>\n",
       "      <th>black_percent</th>\n",
       "      <th>hispanic_percent</th>\n",
       "      <th>multiple_percent</th>\n",
       "      <th>...</th>\n",
       "      <th>effective_school_leadership</th>\n",
       "      <th>strong_family_community_ties</th>\n",
       "      <th>trust</th>\n",
       "      <th>disability_percent</th>\n",
       "      <th>poverty_percent</th>\n",
       "      <th>ESL_percent</th>\n",
       "      <th>school_size</th>\n",
       "      <th>student_achievement</th>\n",
       "      <th>reading_scores_exceed</th>\n",
       "      <th>math_scores_exceed</th>\n",
       "    </tr>\n",
       "  </thead>\n",
       "  <tbody>\n",
       "    <tr>\n",
       "      <th>380</th>\n",
       "      <td>25Q281</td>\n",
       "      <td>EAST-WEST SCHOOL OF INTERNATIONAL STUDIES</td>\n",
       "      <td>70</td>\n",
       "      <td>20</td>\n",
       "      <td>16753.0</td>\n",
       "      <td>27.96</td>\n",
       "      <td>67.3</td>\n",
       "      <td>8.3</td>\n",
       "      <td>18.8</td>\n",
       "      <td>0.9</td>\n",
       "      <td>...</td>\n",
       "      <td>2.37</td>\n",
       "      <td>3.30</td>\n",
       "      <td>3.07</td>\n",
       "      <td>13.3</td>\n",
       "      <td>86.3</td>\n",
       "      <td>6.0</td>\n",
       "      <td>649.0</td>\n",
       "      <td>4.13</td>\n",
       "      <td>0.75</td>\n",
       "      <td>0.78</td>\n",
       "    </tr>\n",
       "    <tr>\n",
       "      <th>178</th>\n",
       "      <td>10X390</td>\n",
       "      <td>M.S. 390</td>\n",
       "      <td>24</td>\n",
       "      <td>1</td>\n",
       "      <td>23289.0</td>\n",
       "      <td>19.66</td>\n",
       "      <td>0.6</td>\n",
       "      <td>12.8</td>\n",
       "      <td>86.5</td>\n",
       "      <td>0.0</td>\n",
       "      <td>...</td>\n",
       "      <td>3.91</td>\n",
       "      <td>4.28</td>\n",
       "      <td>3.87</td>\n",
       "      <td>25.0</td>\n",
       "      <td>98.1</td>\n",
       "      <td>29.7</td>\n",
       "      <td>539.0</td>\n",
       "      <td>3.97</td>\n",
       "      <td>0.29</td>\n",
       "      <td>0.20</td>\n",
       "    </tr>\n",
       "    <tr>\n",
       "      <th>584</th>\n",
       "      <td>84X491</td>\n",
       "      <td>ACADEMIC LEADERSHIP CHARTER SCHOOL</td>\n",
       "      <td>32</td>\n",
       "      <td>2</td>\n",
       "      <td>NaN</td>\n",
       "      <td>NaN</td>\n",
       "      <td>0.2</td>\n",
       "      <td>46.1</td>\n",
       "      <td>51.5</td>\n",
       "      <td>1.1</td>\n",
       "      <td>...</td>\n",
       "      <td>3.40</td>\n",
       "      <td>3.05</td>\n",
       "      <td>2.98</td>\n",
       "      <td>9.8</td>\n",
       "      <td>90.2</td>\n",
       "      <td>11.8</td>\n",
       "      <td>549.0</td>\n",
       "      <td>NaN</td>\n",
       "      <td>0.34</td>\n",
       "      <td>0.25</td>\n",
       "    </tr>\n",
       "    <tr>\n",
       "      <th>362</th>\n",
       "      <td>24Q093</td>\n",
       "      <td>I.S. 093 RIDGEWOOD</td>\n",
       "      <td>78</td>\n",
       "      <td>2</td>\n",
       "      <td>17462.0</td>\n",
       "      <td>22.58</td>\n",
       "      <td>9.2</td>\n",
       "      <td>1.9</td>\n",
       "      <td>71.2</td>\n",
       "      <td>0.5</td>\n",
       "      <td>...</td>\n",
       "      <td>3.62</td>\n",
       "      <td>3.45</td>\n",
       "      <td>3.99</td>\n",
       "      <td>21.7</td>\n",
       "      <td>94.7</td>\n",
       "      <td>15.3</td>\n",
       "      <td>1099.0</td>\n",
       "      <td>3.24</td>\n",
       "      <td>0.46</td>\n",
       "      <td>0.40</td>\n",
       "    </tr>\n",
       "    <tr>\n",
       "      <th>476</th>\n",
       "      <td>32K162</td>\n",
       "      <td>J.H.S. 162 THE WILLOUGHBY</td>\n",
       "      <td>8</td>\n",
       "      <td>0</td>\n",
       "      <td>22791.0</td>\n",
       "      <td>21.00</td>\n",
       "      <td>3.3</td>\n",
       "      <td>5.6</td>\n",
       "      <td>87.5</td>\n",
       "      <td>0.8</td>\n",
       "      <td>...</td>\n",
       "      <td>3.71</td>\n",
       "      <td>3.72</td>\n",
       "      <td>4.06</td>\n",
       "      <td>23.9</td>\n",
       "      <td>90.3</td>\n",
       "      <td>18.1</td>\n",
       "      <td>360.0</td>\n",
       "      <td>3.49</td>\n",
       "      <td>0.35</td>\n",
       "      <td>0.33</td>\n",
       "    </tr>\n",
       "  </tbody>\n",
       "</table>\n",
       "<p>5 rows × 24 columns</p>\n",
       "</div>"
      ],
      "text/plain": [
       "        dbn                                school_name  applications  \\\n",
       "380  25Q281  EAST-WEST SCHOOL OF INTERNATIONAL STUDIES            70   \n",
       "178  10X390                                   M.S. 390            24   \n",
       "584  84X491         ACADEMIC LEADERSHIP CHARTER SCHOOL            32   \n",
       "362  24Q093                         I.S. 093 RIDGEWOOD            78   \n",
       "476  32K162                  J.H.S. 162 THE WILLOUGHBY             8   \n",
       "\n",
       "     acceptances  per_pupil_spending  avg_class_size  asian_percent  \\\n",
       "380           20             16753.0           27.96           67.3   \n",
       "178            1             23289.0           19.66            0.6   \n",
       "584            2                 NaN             NaN            0.2   \n",
       "362            2             17462.0           22.58            9.2   \n",
       "476            0             22791.0           21.00            3.3   \n",
       "\n",
       "     black_percent  hispanic_percent  multiple_percent  ...  \\\n",
       "380            8.3              18.8               0.9  ...   \n",
       "178           12.8              86.5               0.0  ...   \n",
       "584           46.1              51.5               1.1  ...   \n",
       "362            1.9              71.2               0.5  ...   \n",
       "476            5.6              87.5               0.8  ...   \n",
       "\n",
       "     effective_school_leadership  strong_family_community_ties  trust  \\\n",
       "380                         2.37                          3.30   3.07   \n",
       "178                         3.91                          4.28   3.87   \n",
       "584                         3.40                          3.05   2.98   \n",
       "362                         3.62                          3.45   3.99   \n",
       "476                         3.71                          3.72   4.06   \n",
       "\n",
       "     disability_percent  poverty_percent  ESL_percent  school_size  \\\n",
       "380                13.3             86.3          6.0        649.0   \n",
       "178                25.0             98.1         29.7        539.0   \n",
       "584                 9.8             90.2         11.8        549.0   \n",
       "362                21.7             94.7         15.3       1099.0   \n",
       "476                23.9             90.3         18.1        360.0   \n",
       "\n",
       "     student_achievement  reading_scores_exceed  math_scores_exceed  \n",
       "380                 4.13                   0.75                0.78  \n",
       "178                 3.97                   0.29                0.20  \n",
       "584                  NaN                   0.34                0.25  \n",
       "362                 3.24                   0.46                0.40  \n",
       "476                 3.49                   0.35                0.33  \n",
       "\n",
       "[5 rows x 24 columns]"
      ]
     },
     "execution_count": 1,
     "metadata": {},
     "output_type": "execute_result"
    }
   ],
   "source": [
    "import math\n",
    "import numpy as np\n",
    "import pandas as pd\n",
    "import matplotlib.pyplot as plt\n",
    "from sklearn import linear_model\n",
    "from scipy import stats\n",
    "\n",
    "data = pd.read_csv('../data/middleSchoolData.csv')\n",
    "data.sample(5)"
   ]
  },
  {
   "cell_type": "markdown",
   "id": "ea3e5ae9-f39e-480f-858e-840f1c0325bb",
   "metadata": {
    "tags": []
   },
   "source": [
    "## 3. Applications and Acceptances\n",
    "\n",
    "First I took a look at the correlation between the number of applications and the number of admissions to a specialized high school. For this I calculated the Pearson correlation coefficient, which is 0.8017. This is a fairly high correlation coefficient, suggesting that there is a strong positive correlation between the number of applications and the number of acceptances."
   ]
  },
  {
   "cell_type": "code",
   "execution_count": 2,
   "id": "bd5a1361-386a-49f8-aaa3-0c3be9d5207a",
   "metadata": {
    "tags": []
   },
   "outputs": [
    {
     "name": "stdout",
     "output_type": "stream",
     "text": [
      "(0.8017265370719302, 1.9292582453106036e-134)\n"
     ]
    },
    {
     "data": {
      "text/plain": [
       "[<matplotlib.lines.Line2D at 0x1c0c0560760>]"
      ]
     },
     "execution_count": 2,
     "metadata": {},
     "output_type": "execute_result"
    },
    {
     "data": {
      "image/png": "[encoded data removed]",
      "text/plain": [
       "<Figure size 432x288 with 1 Axes>"
      ]
     },
     "metadata": {
      "needs_background": "light"
     },
     "output_type": "display_data"
    }
   ],
   "source": [
    "applications = data['applications']\n",
    "acceptances = data['acceptances']\n",
    "print(stats.pearsonr(applications, acceptances))\n",
    "\n",
    "m, b = np.polyfit(applications, acceptances, 1)\n",
    "plt.xlabel('acceptances')\n",
    "plt.ylabel('applications')\n",
    "plt.scatter(applications, acceptances, color = '#318DEA')\n",
    "plt.plot(applications, m * applications + b, color = '#318DEA')"
   ]
  },
  {
   "cell_type": "markdown",
   "id": "035db940-35d7-4fd9-8a89-1d5c46292ed1",
   "metadata": {},
   "source": [
    "I also thought that the application rate, that is the  number of applications in relation to the size of the school, might've been a better predictor for number of admissions. This turned out to not be the case since the Pearson correlation coefficient, 0.6588, was lower than the one calculated for raw number of applications. Therefore the correlation between the application rate and number of acceptances is not as strong."
   ]
  },
  {
   "cell_type": "code",
   "execution_count": 3,
   "id": "40ba39a0-649a-4079-a522-b751e11be407",
   "metadata": {
    "tags": []
   },
   "outputs": [
    {
     "name": "stdout",
     "output_type": "stream",
     "text": [
      "(0.6587507529002679, 6.141061848418876e-75)\n"
     ]
    },
    {
     "data": {
      "text/plain": [
       "[<matplotlib.lines.Line2D at 0x1c0c067bbe0>]"
      ]
     },
     "execution_count": 3,
     "metadata": {},
     "output_type": "execute_result"
    },
    {
     "data": {
      "image/png": "[encoded data removed]",
      "text/plain": [
       "<Figure size 432x288 with 1 Axes>"
      ]
     },
     "metadata": {
      "needs_background": "light"
     },
     "output_type": "display_data"
    }
   ],
   "source": [
    "acceptances = data['acceptances']\n",
    "school_size = data['school_size']\n",
    "applications = data['applications']\n",
    "\n",
    "application_rate = []\n",
    "for i in range(len(school_size)):\n",
    "    if not math.isnan(school_size[i]):\n",
    "        application_rate.append(applications[i] / school_size[i])\n",
    "    else:\n",
    "        acceptances = acceptances.drop(i)\n",
    "print(stats.pearsonr(application_rate, acceptances))\n",
    "\n",
    "application_rate = pd.Series(application_rate)\n",
    "m, b = np.polyfit(application_rate, acceptances, 1)\n",
    "plt.xlabel('application rate')\n",
    "plt.ylabel('acceptances')\n",
    "plt.scatter(application_rate, acceptances, color = '#E3493A')\n",
    "plt.plot(application_rate, m * application_rate + b, color = '#E3493A')"
   ]
  },
  {
   "cell_type": "markdown",
   "id": "d2f542d3-06f7-4424-93ed-70866168d03a",
   "metadata": {
    "tags": []
   },
   "source": [
    "## 4. Wealth and Admissions\n",
    "\n",
    "One topic that has been subject of debate is the role that a family's wealth plays in specialized high school admissions. Ideally, the SHSAT provides a standardized way to assess a prospective student's academic abilities since every student takes the same test during the same time of year. However, it has been argued that wealthier families are more able access tutoring services and other resources that could give their child an upper hand in admissions. To test the merit of this argument, I wanted to run a statistical hypothesis test.\n",
    "\n",
    "My null hypothesis is that there is no difference between the acceptance rates of schools with higher poverty percentages and the acceptance rates of schools with lower poverty percentages. The alternative hypothesis would be that there is a difference between the acceptance rates of the two groups. \n",
    "\n",
    "First, I found the acceptance rate for each school by dividing the number of acceptances by the number of applications. Schools that had no applications had their acceptance rate set as 0. I then found the median poverty percentage to be 82.85%, and split the list of acceptance rates into two groups based on if the school’s poverty percentage was above or below the median. I conducted an independent samples t-test and found a t-statistic of 8.9145 and a p-value of 6.09 x 10<sup>-18</sup>. Since the p-value less than 0.05, I can reject the null hypothesis and have evidence to suggest that there is a difference in the acceptance rates between schools with higher poverty rates and schools with lower poverty rates."
   ]
  },
  {
   "cell_type": "code",
   "execution_count": 4,
   "id": "f3fd4c99-29ae-4ee3-bdc4-7e209cc2de94",
   "metadata": {
    "tags": []
   },
   "outputs": [
    {
     "name": "stdout",
     "output_type": "stream",
     "text": [
      "Ttest_indResult(statistic=-8.914562087983786, pvalue=6.0895309011999434e-18)\n"
     ]
    },
    {
     "data": {
      "text/plain": [
       "(0.03713709542874199, 0.12418087019954589)"
      ]
     },
     "execution_count": 4,
     "metadata": {},
     "output_type": "execute_result"
    },
    {
     "data": {
      "image/png": "[encoded data removed]",
      "text/plain": [
       "<Figure size 432x288 with 1 Axes>"
      ]
     },
     "metadata": {
      "needs_background": "light"
     },
     "output_type": "display_data"
    }
   ],
   "source": [
    "subdata = data[[\"school_name\", \"applications\", \"acceptances\", \"poverty_percent\"]]\n",
    "subdata = subdata.dropna()\n",
    "\n",
    "applications, acceptances, poverty_percent, acceptance_rate = [], [], [], []\n",
    "\n",
    "for row in subdata.values: \n",
    "    applications.append(row[1])\n",
    "    acceptances.append(row[2])\n",
    "    poverty_percent.append(row[3])\n",
    "for i in range(len(applications)):\n",
    "        acceptance_rate.append(acceptances[i] / applications[i]) if applications[i] != 0 else acceptance_rate.append(0)\n",
    "\n",
    "median = np.median(poverty_percent)\n",
    "below, above, below_rate, above_rate = [], [], [], []\n",
    "for i in range(len(poverty_percent)):\n",
    "    if poverty_percent[i] < median:\n",
    "        above.append(acceptance_rate[i])\n",
    "        above_rate.append(poverty_percent[i])\n",
    "    else:\n",
    "        below.append(acceptance_rate[i])\n",
    "        below_rate.append(poverty_percent[i])\n",
    "print(stats.ttest_ind(below, above))\n",
    "\n",
    "plt.scatter(below_rate, below, color = \"#E3493A\", label = \"Higher Poverty\")\n",
    "plt.scatter(above_rate, above, color = \"#318DEA\", label = \"Lower Poverty\")\n",
    "plt.ylabel(\"Acceptance Rate\")\n",
    "plt.xlabel(\"Poverty Percentage\")\n",
    "plt.legend(loc = \"upper right\")\n",
    "(np.mean(below), np.mean(above))"
   ]
  },
  {
   "cell_type": "markdown",
   "id": "9852275a-9564-4cb8-80e7-708a2cf58b9b",
   "metadata": {},
   "source": [
    "It has also been argued that students who attend schools in wealthier neighborhoods are given an unfair advantage since these schools are able to secure more funding, and are therefore able to provide more high-quality resources for their students to excel. I decided to see if the availability of material resources impacted objective measures of achievement or admissions to a specialized high school.\n",
    "\n",
    "I first conducted a Princpal Component Analysis (PCA) for dimension reduction, and used the Kaiser criterion for determining the number of independent factors. It turns out that both the measures of the availability of material resources and the measures of achievement/admissions could be reduced down to one independent factor each. I then calculated a Pearson correlation coefficient of -0.6099. This suggests that there is a mild negative correlation between the availability of resources and student achievement, which goes against the claims that have been made regarding the impact of material resources. \n",
    "\n",
    "But there are many possible explanations for this behavior. One could be that schools that have higher percentages of students with disabilitiesa also tend to have higher per student spending, as they need the additional resources to accommodate their student body. However, students with disabilities also have lower rates of being admitted to a specialized high school and generally perform worse academically compared to their peers, which might explain why we see a negative correlation. \n",
    "\n",
    "To test this idea, I found the partial correlation between the availability of resources and achievement while controlling for the percent of students with disabilities and it turned out to be -0.3663, which is much weaker than before. There could be other variables at play here that contribute to the negative relationship, so I believe that a multiple regression model would be useful."
   ]
  },
  {
   "cell_type": "code",
   "execution_count": 5,
   "id": "00485352-bdec-4edd-8b26-bea1ee1afb6a",
   "metadata": {
    "tags": []
   },
   "outputs": [
    {
     "name": "stdout",
     "output_type": "stream",
     "text": [
      "(-0.6098863596116151, 3.3367000121407144e-48)\n"
     ]
    },
    {
     "data": {
      "image/png": "[encoded data removed]",
      "text/plain": [
       "<Figure size 432x288 with 1 Axes>"
      ]
     },
     "metadata": {
      "needs_background": "light"
     },
     "output_type": "display_data"
    },
    {
     "data": {
      "image/png": "[encoded data removed]",
      "text/plain": [
       "<Figure size 432x288 with 1 Axes>"
      ]
     },
     "metadata": {
      "needs_background": "light"
     },
     "output_type": "display_data"
    },
    {
     "data": {
      "text/plain": [
       "[<matplotlib.lines.Line2D at 0x1c0c08ff310>]"
      ]
     },
     "execution_count": 5,
     "metadata": {},
     "output_type": "execute_result"
    },
    {
     "data": {
      "image/png": "[encoded data removed]",
      "text/plain": [
       "<Figure size 432x288 with 1 Axes>"
      ]
     },
     "metadata": {
      "needs_background": "light"
     },
     "output_type": "display_data"
    }
   ],
   "source": [
    "from sklearn.decomposition import PCA\n",
    "\n",
    "subdata = data[[\"per_pupil_spending\", \"avg_class_size\", \"acceptances\", \"applications\", \n",
    "                \"student_achievement\", \"reading_scores_exceed\", \"math_scores_exceed\"]]\n",
    "subdata = subdata.dropna()\n",
    "\n",
    "resources, achievement = [], []\n",
    "for row in subdata.values:\n",
    "    resources.append(row[:2])\n",
    "    achievement.append(row[3:7])\n",
    "    \n",
    "zscored_resources = stats.zscore(resources)\n",
    "zscored_achievement = stats.zscore(achievement)\n",
    "\n",
    "pca1 = PCA()\n",
    "pca1.fit(zscored_resources)\n",
    "eig_val1 = pca1.explained_variance_\n",
    "loadings1 = pca1.components_\n",
    "rotated_data1 = pca1.fit_transform(zscored_resources)\n",
    "covar_explained1 = eig_val1 / sum(eig_val1) * 100\n",
    "\n",
    "pca2 = PCA()\n",
    "pca2.fit(zscored_achievement)\n",
    "eig_val2 = pca2.explained_variance_\n",
    "loadings2 = pca2.explained_variance_\n",
    "rotated_data2 = pca2.fit_transform(zscored_achievement)\n",
    "covar_explained2 = eig_val2 / sum(eig_val2) * 100\n",
    "\n",
    "print(stats.pearsonr(rotated_data1[:,0], rotated_data2[:,0]))\n",
    "\n",
    "num_classes = len(eig_val1)\n",
    "plt.bar(np.linspace(1, num_classes, num_classes), eig_val1)\n",
    "plt.title(\"Resource Scree\")\n",
    "plt.xlabel(\"Principal Components\")\n",
    "plt.ylabel(\"Eigenvalue\")\n",
    "plt.show()\n",
    "\n",
    "plt.bar(np.linspace(1, len(eig_val2), len(eig_val2)), eig_val2)\n",
    "plt.title(\"Achievement Scree\")\n",
    "plt.xlabel(\"Principal Components\")\n",
    "plt.ylabel(\"Eigenvalue\")\n",
    "plt.show()\n",
    "\n",
    "m, b = np.polyfit(rotated_data1[:,0], rotated_data2[:,0], 1)\n",
    "\n",
    "plt.scatter(rotated_data1[:,0], rotated_data2[:,0], color = \"#E3493A\")\n",
    "axes = plt.gca()\n",
    "axes.set_ylim([-4, 5.5])\n",
    "plt.xlabel(\"Resources\")\n",
    "plt.ylabel(\"Achievement\")\n",
    "plt.plot(rotated_data1[:,0], rotated_data1[:,0] * m + b, color = \"#E3493A\")"
   ]
  },
  {
   "cell_type": "markdown",
   "id": "21acc469-31d4-4170-bc2f-f1171bf8dde2",
   "metadata": {},
   "source": [
    "## 5. Feeder Schools\n",
    "Another frequently raised concern is the existence of feeder schools, which are schools where a disproportionately high number of students are admitted to specializaed high schools compared to other NYC middle schools. To see if feeder schools were actually a noticeable phenomena in the high schools admissions environment, I first found the schools with the best *per student* odds of sending a student to a specialized high school.\n",
    "\n",
    "I defined odds as the probability of a school sending a student to a specialized high school divided by the probability that it doesn't. The probability of a school sending a student to a specialized high school is the number of acceptances divided by the school's total population. I then divided this by the probability of the school not sending someone to a specialized high school, which I found by subtracting the number from 1, in order to get the odds. \n",
    "\n",
    "The school that had the best *per student* odds was The Christa McAuliffe School, whose *per student* odds was 0.3069."
   ]
  },
  {
   "cell_type": "code",
   "execution_count": 6,
   "id": "317048bf-b57d-4d2f-bb03-d0d31d67ed6c",
   "metadata": {
    "tags": []
   },
   "outputs": [
    {
     "data": {
      "text/plain": [
       "['THE CHRISTA MCAULIFFE SCHOOL\\\\I.S. 187',\n",
       " 'NEW YORK CITY LAB MIDDLE SCHOOL FOR COLLABORATIVE STUDIES',\n",
       " 'M.S. 255 SALK SCHOOL OF SCIENCE',\n",
       " 'J.H.S. 054 BOOKER T. WASHINGTON',\n",
       " 'EAST SIDE MIDDLE SCHOOL',\n",
       " 'MARK TWAIN I.S. 239 FOR THE GIFTED & TALENTED',\n",
       " 'BACCALAUREATE SCHOOL FOR GLOBAL EDUCATION',\n",
       " 'THE ANDERSON SCHOOL',\n",
       " 'M.S. 51 WILLIAM ALEXANDER',\n",
       " 'THE MATH & SCIENCE EXPLORATORY SCHOOL']"
      ]
     },
     "execution_count": 6,
     "metadata": {},
     "output_type": "execute_result"
    }
   ],
   "source": [
    "acceptances = data['acceptances']\n",
    "school_size = data['school_size']\n",
    "\n",
    "sending = []\n",
    "for i in range(len(acceptances)):\n",
    "    if not math.isnan(school_size[i]):\n",
    "        sending.append(acceptances[i] / school_size[i])\n",
    "    else:\n",
    "        sending.append(0)\n",
    "odds = [val / (1 - val) for val in sending]\n",
    "\n",
    "school_odds = {data['school_name'][i] : odds[i] for i in range(len(odds))}\n",
    "sorted(school_odds, key = school_odds.get, reverse = True)[0:10]"
   ]
  },
  {
   "cell_type": "markdown",
   "id": "6a0b1f8d-50ef-471b-9d71-69ddcf638cf6",
   "metadata": {},
   "source": [
    "I noticed that the schools in the list were all rated relatively highly by their students when it came to factors involving the school's climate. This includes things such as having collaborative teachers or a supportive environment, which can be found in columns L-Q of the dataset. This made me wonder if there was a relationship between a school's climate and how well its students performs on objective measures of achievement, such as the ELA and Mathematics test that students in New York State take between grades 3 and 8. This data can be found in columns V-X of the dataset.\n",
    "\n",
    "To find the relationship between a school’s climate and how well it performs on objective measures of achievement, I first ran a PCA and reduced both of these variables to one independent factor each, and then found the Spearman correlation coefficient between a school’s climate and a school’s performance on measures of achievement to be -0.4222. This leads me to beleive that there is a negative relationship between the two variables, or that as the perception of a school improves, the school’s measure of achievement gets worse. Again, this doesn’t seem to make sense, so this could be an instance where there are  confounding variables and another reason why a multiple regression model would be useful. "
   ]
  },
  {
   "cell_type": "code",
   "execution_count": 7,
   "id": "8d86d6fd-537b-4cef-8682-928c3adf98fc",
   "metadata": {
    "tags": []
   },
   "outputs": [
    {
     "name": "stdout",
     "output_type": "stream",
     "text": [
      "SpearmanrResult(correlation=-0.4450756774616421, pvalue=5.901098939679109e-27)\n"
     ]
    },
    {
     "data": {
      "image/png": "[encoded data removed]",
      "text/plain": [
       "<Figure size 432x288 with 1 Axes>"
      ]
     },
     "metadata": {
      "needs_background": "light"
     },
     "output_type": "display_data"
    },
    {
     "data": {
      "image/png": "[encoded data removed]",
      "text/plain": [
       "<Figure size 432x288 with 1 Axes>"
      ]
     },
     "metadata": {
      "needs_background": "light"
     },
     "output_type": "display_data"
    },
    {
     "data": {
      "text/plain": [
       "[<matplotlib.lines.Line2D at 0x1c0c0a1c130>]"
      ]
     },
     "execution_count": 7,
     "metadata": {},
     "output_type": "execute_result"
    },
    {
     "data": {
      "image/png": "[encoded data removed]",
      "text/plain": [
       "<Figure size 432x288 with 1 Axes>"
      ]
     },
     "metadata": {
      "needs_background": "light"
     },
     "output_type": "display_data"
    }
   ],
   "source": [
    "subdata = data[['rigorous_instruction', 'collaborative_teachers', 'supportive_environment',\n",
    "                'effective_school_leadership', 'strong_family_community_ties', 'trust',\n",
    "                'student_achievement', 'reading_scores_exceed', 'math_scores_exceed']]\n",
    "subdata = subdata.dropna()\n",
    "\n",
    "climate, achievement = [], []\n",
    "for row in subdata.values:\n",
    "    climate.append(row[:5])\n",
    "    achievement.append(row[6:9])\n",
    "\n",
    "zscored_climate = stats.zscore(climate)\n",
    "zscored_achievement = stats.zscore(achievement)\n",
    "\n",
    "pca1 = PCA()\n",
    "pca1.fit(zscored_climate)\n",
    "eig_val1 = pca1.explained_variance_\n",
    "loadings1 = pca1.components_\n",
    "rotated_data1 = pca1.fit_transform(zscored_climate)\n",
    "covar_explained1 = eig_val1 / sum(eig_val1) * 100\n",
    "\n",
    "pca2 = PCA()\n",
    "pca2.fit(zscored_achievement)\n",
    "eig_val2 = pca2.explained_variance_\n",
    "loadings2 = pca2.explained_variance_\n",
    "rotated_data2 = pca2.fit_transform(zscored_achievement)\n",
    "covar_explained2 = eig_val2 / sum(eig_val2) * 100\n",
    "\n",
    "print(stats.spearmanr(rotated_data1[:,0], rotated_data2[:,0]))\n",
    "\n",
    "num_classes = len(eig_val1)\n",
    "plt.bar(np.linspace(1, num_classes, num_classes), eig_val1)\n",
    "plt.title(\"Climate Scree Plot\")\n",
    "plt.xlabel(\"Principal Components\")\n",
    "plt.ylabel(\"Eigenvalue\")\n",
    "plt.show()\n",
    "\n",
    "plt.bar(np.linspace(1, len(eig_val2), len(eig_val2)), eig_val2)\n",
    "plt.title(\"Achievement Scree Plot\")\n",
    "plt.xlabel(\"Principal Components\")\n",
    "plt.ylabel(\"Eigenvalue\")\n",
    "plt.show()\n",
    "\n",
    "plt.scatter(rotated_data1[:,0], rotated_data2[:,1], color = \"#318DEA\")\n",
    "plt.xlabel(\"Climate\")\n",
    "plt.ylabel(\"Achievement\")\n",
    "m, b = np.polyfit(rotated_data1[:,0], rotated_data2[:,0], 1)\n",
    "plt.plot(rotated_data1[:,0], m * rotated_data1[:,0] + b, color = \"#318DEA\")"
   ]
  },
  {
   "cell_type": "markdown",
   "id": "84622cfb-5a65-4c3c-aa6c-aa4c52815eab",
   "metadata": {},
   "source": [
    "After calculating each school's *per student* odds of sending a student to a specialized high school, I noticed that there were many, many schools in the city that did not have a single student even submit an application to a specialized high school. This suggests that the vast majority of admitted students come from a small portion of NYC middle schools.  \n",
    "\n",
    "I wanted to see what proportion of schools accounted for 90% of the acceptances to specialized high schools, or 4,014.9 out of 4,461. Starting from the school with the most acceptances, I added up the number of acceptances from each school until the sum passed 4,019.9. It turns out that of the 594 schools, the top 124 schools account for 90% of all students accepted into a specialized high school. \n",
    "\n",
    "Below is a bar graph of schools ordered from those having the least number of acceptances to those with the most. Underneath that cumulative distribution plot of acceptances. As we can see, the 124 schools on the right of the black line make up the vast majority of the acceptances while the remaining 470 make up only 10%. "
   ]
  },
  {
   "cell_type": "code",
   "execution_count": 8,
   "id": "c2a2beaf-fec1-468c-be48-fb6a4dcf1dbf",
   "metadata": {},
   "outputs": [
    {
     "data": {
      "image/png": "[encoded data removed]",
      "text/plain": [
       "<Figure size 432x288 with 1 Axes>"
      ]
     },
     "metadata": {
      "needs_background": "light"
     },
     "output_type": "display_data"
    },
    {
     "data": {
      "image/png": "[encoded data removed]",
      "text/plain": [
       "<Figure size 432x288 with 1 Axes>"
      ]
     },
     "metadata": {
      "needs_background": "light"
     },
     "output_type": "display_data"
    }
   ],
   "source": [
    "acceptances = data[\"acceptances\"]\n",
    "total_acceptances = acceptances.sum()\n",
    "ninety = total_acceptances * 0.9\n",
    "\n",
    "acceptances = sorted(acceptances)\n",
    "total = 0\n",
    "for i in range(len(acceptances)):\n",
    "    total += acceptances[i]\n",
    "    if total > ninety:\n",
    "        top = i\n",
    "        break\n",
    "\n",
    "percentage = [acceptance / total_acceptances for acceptance in acceptances]\n",
    "xlist = list(range(len(percentage)))\n",
    "\n",
    "total_percent = 0\n",
    "ylist = []\n",
    "for i in range(len(percentage)):\n",
    "    total_percent += percentage[i]\n",
    "    ylist.append(total_percent)\n",
    "    \n",
    "plt.bar(xlist, acceptances, 1, color = \"#E3493A\")\n",
    "plt.xlabel(\"Schools Ordered From Least to Most Acceptances\")\n",
    "plt.ylabel(\"Number of Acceptances\")\n",
    "plt.show()\n",
    "\n",
    "plt.plot(xlist, ylist, color = \"#318DEA\")\n",
    "plt.axvline(x = 470, color = \"black\", linewidth = 1)\n",
    "plt.xlabel(\"Number of Schools\")\n",
    "plt.ylabel(\"Cumulative Proportion of Acceptances\")\n",
    "plt.show()"
   ]
  },
  {
   "cell_type": "markdown",
   "id": "56124a0d-a98d-475c-874f-ce6b81646802",
   "metadata": {},
   "source": [
    "## 6. Modeling\n",
    "\n",
    "As mentioned previously, I believe that a multiple regression model would be helpful to get a more clear picture of all the factors involved in specialized high school admissions. I created two multiple regression models based on the factors that we have examined so far. First, let's take a look at the factors that affect objective measures of achievement: \n",
    "\n",
    "$$ \\text{Achievement} = 2.604 \\times 10^{-16} + (1.093 \\times 10^{-5})X_1 +  (0.2116)X_2 + (-6.902 \\times 10^{-3})X_3 $$\n",
    "       \n",
    "In this model:\n",
    "- X1 represents the availability of material resources\n",
    "- X2 represents a school's climate based on student ratings\n",
    "- X3 represents the percentage of students who are disadvantaged, whether it be because they come from poverty, are disabled, or have English as a second language. \n",
    "\n",
    "This model gives us pretty straightforward conclusions. As tje availability of material resources and better perception of the school increases the performance of students on objective measures of achievement, while an increase in the percentage of disadvantaged students lower the achievement. The most important factor to consider here it seems is the perception of the school, and the kind of climate students are placed in.\n",
    "\n",
    "The first one predicts the number of admitted students there are at a given school: \n",
    "\n",
    "$$\\text{Acceptances} = -3.515 + (0.2707)X_1 + (2.577 \\times 10^{-4})X_2 + (-0.4325)X_3 + (0.2166)X_4$$         \n",
    "Such that:\n",
    "- X<sub>1</sub> represents the number of applications\n",
    "- X<sub>2</sub> represents the availability of material resources\n",
    "- X<sub>3</sub> represents a school's climate based on student ratings\n",
    "- X<sub>4</sub> represents the percentage of students who are disadvantaged, whether it be because they come from poverty, are disabled, or have English as a second language. \n",
    "\n",
    "Based on the model above, the most important factor for determining the number of acceptances at a school is the number of applications coming from that school. Increasing the availability of material resources does also seem to increase the number of acceptances, although the effect is relatively small. Interestingly, a better perception of the school actually serves to decrease the number of acceptances that come from the school while an increased percentage of disadvantaged students increases the number of acceptances. This could potentially be due to the interaction between variables, but there could be a lot of other explanations for this behavior. "
   ]
  },
  {
   "cell_type": "code",
   "execution_count": 9,
   "id": "a82e5723-5f62-463e-a73e-84f56ecf6a63",
   "metadata": {},
   "outputs": [
    {
     "name": "stdout",
     "output_type": "stream",
     "text": [
      "Intercept: \n",
      " 2.603647813437757e-16\n",
      "Coefficients: \n",
      " [ 1.09341745e-05  2.11635916e-01 -6.90265558e-03]\n"
     ]
    }
   ],
   "source": [
    "subdata = data[[\"applications\", \"acceptances\", \"per_pupil_spending\", \"avg_class_size\", \"rigorous_instruction\", \"collaborative_teachers\", \n",
    "                \"supportive_environment\", \"effective_school_leadership\", \"strong_family_community_ties\", \"trust\", \"disability_percent\", \n",
    "                \"poverty_percent\", \"ESL_percent\", \"school_size\", \"student_achievement\", \"math_scores_exceed\", \"reading_scores_exceed\"]]\n",
    "subdata = subdata.dropna()\n",
    "\n",
    "resources = subdata[[\"per_pupil_spending\", \"avg_class_size\"]]\n",
    "climate = subdata[[\"rigorous_instruction\",\"collaborative_teachers\", \"supportive_environment\", \n",
    "                   \"effective_school_leadership\", \"strong_family_community_ties\", \"trust\"]]\n",
    "disadvantage = subdata[[\"disability_percent\", \"poverty_percent\", \"ESL_percent\"]]\n",
    "achievement = subdata[[\"student_achievement\", \"math_scores_exceed\", \"reading_scores_exceed\"]]\n",
    "\n",
    "resources_pca = PCA()\n",
    "resources_pca.fit(resources)\n",
    "rotated_resources = resources_pca.fit_transform(resources)\n",
    "\n",
    "climate_pca = PCA()\n",
    "climate_pca.fit(climate)\n",
    "rotated_climate = climate_pca.fit_transform(climate)\n",
    "\n",
    "da_pca = PCA()\n",
    "da_pca.fit(disadvantage)\n",
    "rotated_da = da_pca.fit_transform(disadvantage)\n",
    "\n",
    "achievement_pca = PCA()\n",
    "achievement_pca.fit(achievement)\n",
    "rotated_achievement = achievement_pca.fit_transform(achievement)\n",
    "\n",
    "final = pd.DataFrame({\"applications\" : subdata[\"applications\"], \n",
    "                      \"acceptances\" : subdata[\"acceptances\"], \n",
    "                      \"resources\" : rotated_resources[:,0],\n",
    "                      \"climate\" : rotated_climate[:,0], \n",
    "                      \"disadvantage\" : rotated_da[:,0], \n",
    "                      \"acheivement\" : rotated_achievement[:,0]},\n",
    "                      columns = [\"applications\", \"acceptances\", \"resources\", \"climate\", \"disadvantage\", \"achievement\"])\n",
    "\n",
    "X = final[[\"resources\", \"climate\", \"disadvantage\"]]\n",
    "Y = rotated_achievement[:,0]\n",
    "\n",
    "regr = linear_model.LinearRegression()\n",
    "regr.fit(X, Y)\n",
    "\n",
    "print('Intercept: \\n', regr.intercept_)\n",
    "print('Coefficients: \\n', regr.coef_)"
   ]
  },
  {
   "cell_type": "markdown",
   "id": "3687d5b0-18da-4d61-a377-6637ccb2e386",
   "metadata": {},
   "source": [
    "## 7. Final Thoughts\n",
    "\n",
    "I believe that the school characteristics that are most relevant for determining acceptance into a specialized high school are the number of applications, the availability of resources, and the percentage of disadvantaged students. \n",
    "- There is a strong correlation between the number of applications and the number of acceptances. \n",
    "- Although the availability of resources actually seems to decrease the achievement of students, there most likely are other factors involved, and the first multiple regression model shows that an increase in the availability of material resources does slightly increase acceptances. \n",
    "- Higher poverty rates drastically lower a student’s chances of getting into a specialized high school. Looking at data for the percent of disabled students and the percent of ESL students, we see that increases in these areas actually exponentially decreases the number of admissions to a specialized high school. This could be a reason as to why we saw a positive slope in the second multiple regression model: the relationship between these factors was not linear.\n",
    "\n",
    "Then to increase the number of admissions for specialized high schools, the first step middle schools should take is to encourage students to actually apply to these selective schools. Out of 594 middle schools, 264 account for 90% of applications, 123 had less than 10 students apply, and 56 schools have none. Other steps that schools could take include allocating more resources to their students, such as decreasing class size and increasing per student spending. Additionally, a student’s perception of their school environment does improve their performance on objective measures of achievement such as their math and reading scores. This is reflected in the first multiple regression model. Factors such as having rigorous instruction and a supportive environment seem to play an especially important role on the performance of students in measures of achievement, so these should be things that schools should focus on improving first."
   ]
  }
 ],
 "metadata": {
  "kernelspec": {
   "display_name": "Python 3 (ipykernel)",
   "language": "python",
   "name": "python3"
  },
  "language_info": {
   "codemirror_mode": {
    "name": "ipython",
    "version": 3
   },
   "file_extension": ".py",
   "mimetype": "text/x-python",
   "name": "python",
   "nbconvert_exporter": "python",
   "pygments_lexer": "ipython3",
   "version": "3.9.7"
  },
  "toc-autonumbering": false,
  "toc-showcode": false,
  "toc-showmarkdowntxt": false
 },
 "nbformat": 4,
 "nbformat_minor": 5
}
